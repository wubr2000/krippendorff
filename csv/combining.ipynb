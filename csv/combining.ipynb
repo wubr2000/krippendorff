{
 "metadata": {
  "name": "",
  "signature": "sha256:7c59672b3bcb77ed618e4dc97a08601c35159f996180dbc8cb7fc0549c26a912"
 },
 "nbformat": 3,
 "nbformat_minor": 0,
 "worksheets": [
  {
   "cells": [
    {
     "cell_type": "markdown",
     "metadata": {},
     "source": [
      "#Humanities files"
     ]
    },
    {
     "cell_type": "code",
     "collapsed": false,
     "input": [
      "import pandas as pd\n",
      "import numpy as np\n",
      "\n",
      "hum_czarina = pd.read_csv(\"Hum_Czarinar.csv\", header = None)\n",
      "hum_ivana = pd.read_csv(\"Hum_Ivana.csv\", header = None)\n",
      "hum_marissa = pd.read_csv(\"Hum_Marissa.csv\", header = None)\n",
      "\n",
      "print len(hum_czarina)\n",
      "print len(hum_ivana)\n",
      "print len(hum_marissa)\n"
     ],
     "language": "python",
     "metadata": {},
     "outputs": [
      {
       "output_type": "stream",
       "stream": "stdout",
       "text": [
        "10013\n",
        "10013\n",
        "10013\n"
       ]
      }
     ],
     "prompt_number": 1
    },
    {
     "cell_type": "code",
     "collapsed": false,
     "input": [
      "czarina_opinion = hum_czarina[0]\n",
      "czarina_question = hum_czarina[1]\n",
      "czarina_answer = hum_czarina[2]\n",
      "czarina_sentiment = hum_czarina[3]\n",
      "czarina_confusion = hum_czarina[4]\n",
      "czarina_urgency = hum_czarina[5]"
     ],
     "language": "python",
     "metadata": {},
     "outputs": [],
     "prompt_number": 2
    },
    {
     "cell_type": "code",
     "collapsed": false,
     "input": [
      "ivana_opinion = hum_ivana[0]\n",
      "ivana_question = hum_ivana[1]\n",
      "ivana_answer = hum_ivana[2]\n",
      "ivana_sentiment = hum_ivana[3]\n",
      "ivana_confusion = hum_ivana[4]\n",
      "ivana_urgency = hum_ivana[5]"
     ],
     "language": "python",
     "metadata": {},
     "outputs": [],
     "prompt_number": 3
    },
    {
     "cell_type": "code",
     "collapsed": false,
     "input": [
      "marissa_opinion = hum_marissa[0]\n",
      "marissa_question = hum_marissa[1]\n",
      "marissa_answer = hum_marissa[2]\n",
      "marissa_sentiment = hum_marissa[3]\n",
      "marissa_confusion = hum_marissa[4]\n",
      "marissa_urgency = hum_marissa[5]"
     ],
     "language": "python",
     "metadata": {},
     "outputs": [],
     "prompt_number": 4
    },
    {
     "cell_type": "code",
     "collapsed": false,
     "input": [
      "#Fix NaN problem by assigning a 0 to NaN\n",
      "\n",
      "ivana_opinion[np.isnan(ivana_opinion)] = 0\n",
      "ivana_question[np.isnan(ivana_question)] = 0\n",
      "ivana_answer[np.isnan(ivana_answer)] = 0\n",
      "ivana_sentiment[np.isnan(ivana_sentiment)] = 0\n",
      "ivana_confusion[np.isnan(ivana_confusion.values.astype(int))] = 0\n",
      "ivana_urgency[np.isnan(ivana_urgency)] = 0\n",
      "\n",
      "czarina_answer[np.isnan(czarina_answer)] = 0\n",
      "czarina_confusion[np.isnan(czarina_confusion.values.astype(int))] = 0\n",
      "\n",
      "ivana_confusion = ivana_confusion.values.astype(int)\n",
      "czarina_confusion = czarina_confusion.values.astype(int)"
     ],
     "language": "python",
     "metadata": {},
     "outputs": [],
     "prompt_number": 5
    },
    {
     "cell_type": "code",
     "collapsed": false,
     "input": [
      "hum_opinion = []\n",
      "\n",
      "for i in xrange(len(hum_czarina)):\n",
      "    hum_opinion.extend([\"czarina\", i+1, int(czarina_opinion[i])])\n",
      "    hum_opinion.extend([\"ivana\", i+1, int(ivana_opinion[i])])\n",
      "    hum_opinion.extend([\"marissa\", i+1, int(marissa_opinion[i])])\n",
      "\n",
      "humanities_opinion = np.reshape(hum_opinion, (len(hum_czarina)*3,3))\n",
      "\n",
      "#Saves the file\n",
      "np.savetxt(\"humanities_opinion.txt\", humanities_opinion, newline=\"\\n\", fmt=\"%s\", delimiter=\"\\t\")"
     ],
     "language": "python",
     "metadata": {},
     "outputs": [],
     "prompt_number": 151
    },
    {
     "cell_type": "code",
     "collapsed": false,
     "input": [
      "hum_question = []\n",
      "\n",
      "for i in xrange(len(hum_czarina)):\n",
      "    hum_question.extend([\"czarina\", i+1, int(czarina_question[i])])\n",
      "    hum_question.extend([\"ivana\", i+1, int(ivana_question[i])])\n",
      "    hum_question.extend([\"marissa\", i+1, int(marissa_question[i])])\n",
      "\n",
      "humanities_question = np.reshape(hum_question, (len(hum_czarina)*3,3))\n",
      "\n",
      "#Saves the file\n",
      "np.savetxt(\"humanities_question.txt\", humanities_question, newline=\"\\n\", fmt=\"%s\", delimiter=\"\\t\")"
     ],
     "language": "python",
     "metadata": {},
     "outputs": [],
     "prompt_number": 162
    },
    {
     "cell_type": "code",
     "collapsed": false,
     "input": [
      "hum_answer = []\n",
      "\n",
      "for i in xrange(len(hum_czarina)):\n",
      "    hum_answer.extend([\"czarina\", i+1, int(czarina_answer[i])])\n",
      "    hum_answer.extend([\"ivana\", i+1, int(ivana_answer[i])])\n",
      "    hum_answer.extend([\"marissa\", i+1, int(marissa_answer[i])])\n",
      "\n",
      "humanities_answer = np.reshape(hum_answer, (len(hum_czarina)*3,3))\n",
      "\n",
      "#Saves the file\n",
      "np.savetxt(\"humanities_answer.txt\", humanities_answer, newline=\"\\n\", fmt=\"%s\", delimiter=\"\\t\")\n"
     ],
     "language": "python",
     "metadata": {},
     "outputs": [],
     "prompt_number": 166
    },
    {
     "cell_type": "code",
     "collapsed": false,
     "input": [
      "hum_sentiment = []\n",
      "\n",
      "for i in xrange(len(hum_czarina)):\n",
      "    hum_sentiment.extend([\"czarina\", i+1, int(czarina_sentiment[i])])\n",
      "    hum_sentiment.extend([\"ivana\", i+1, int(ivana_sentiment[i])])\n",
      "    hum_sentiment.extend([\"marissa\", i+1, int(marissa_sentiment[i])])\n",
      "\n",
      "humanities_sentiment = np.reshape(hum_sentiment, (len(hum_czarina)*3,3))\n",
      "\n",
      "#Saves the file\n",
      "np.savetxt(\"humanities_sentiment.txt\", humanities_sentiment, newline=\"\\n\", fmt=\"%s\", delimiter=\"\\t\")\n"
     ],
     "language": "python",
     "metadata": {},
     "outputs": [],
     "prompt_number": 6
    },
    {
     "cell_type": "code",
     "collapsed": false,
     "input": [
      "hum_confusion = []\n",
      "\n",
      "for i in xrange(len(hum_czarina)):\n",
      "    hum_confusion.extend([\"czarina\", i+1, int(czarina_confusion[i])])\n",
      "    hum_confusion.extend([\"ivana\", i+1, int(ivana_confusion[i])])\n",
      "    hum_confusion.extend([\"marissa\", i+1, int(marissa_confusion[i])])\n",
      "\n",
      "humanities_confusion = np.reshape(hum_confusion, (len(hum_czarina)*3,3))\n",
      "\n",
      "#Saves the file\n",
      "np.savetxt(\"humanities_confusion.txt\", humanities_confusion, newline=\"\\n\", fmt=\"%s\", delimiter=\"\\t\")\n"
     ],
     "language": "python",
     "metadata": {},
     "outputs": [],
     "prompt_number": 7
    },
    {
     "cell_type": "code",
     "collapsed": false,
     "input": [
      "hum_urgency = []\n",
      "\n",
      "for i in xrange(len(hum_czarina)):\n",
      "    hum_urgency.extend([\"czarina\", i+1, int(czarina_urgency[i])])\n",
      "    hum_urgency.extend([\"ivana\", i+1, int(ivana_urgency[i])])\n",
      "    hum_urgency.extend([\"marissa\", i+1, int(marissa_urgency[i])])\n",
      "\n",
      "humanities_urgency = np.reshape(hum_urgency, (len(hum_czarina)*3,3))\n",
      "\n",
      "#Saves the file\n",
      "np.savetxt(\"humanities_urgency.txt\", humanities_urgency, newline=\"\\n\", fmt=\"%s\", delimiter=\"\\t\")\n"
     ],
     "language": "python",
     "metadata": {},
     "outputs": [],
     "prompt_number": 8
    },
    {
     "cell_type": "code",
     "collapsed": false,
     "input": [],
     "language": "python",
     "metadata": {},
     "outputs": []
    }
   ],
   "metadata": {}
  }
 ]
}